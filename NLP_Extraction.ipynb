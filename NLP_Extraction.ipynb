{
  "nbformat": 4,
  "nbformat_minor": 0,
  "metadata": {
    "colab": {
      "name": "NLP Extraction.ipynb",
      "provenance": []
    },
    "kernelspec": {
      "name": "python3",
      "display_name": "Python 3"
    }
  },
  "cells": [
    {
      "cell_type": "code",
      "metadata": {
        "id": "ibZSQlPThZ5u",
        "colab_type": "code",
        "colab": {}
      },
      "source": [
        "!pip install -U spacy"
      ],
      "execution_count": null,
      "outputs": []
    },
    {
      "cell_type": "code",
      "metadata": {
        "id": "bXxnwagRh3bB",
        "colab_type": "code",
        "colab": {}
      },
      "source": [
        "from spacy.lang.en import English\n",
        "nlp = English()"
      ],
      "execution_count": null,
      "outputs": []
    },
    {
      "cell_type": "code",
      "metadata": {
        "id": "hkjD75_XiiHF",
        "colab_type": "code",
        "colab": {}
      },
      "source": [
        "text =\" Kaali, an elderly man, takes up the job of a boys' hostel warden at a college in Ooty. He notices that the hostel is dominated by a group of unruly final-year students, who are led by Michael, the spoiled son of a local leader named Gnanam. Kaali puts a stop to Michael's antics, which leads to enmity between the two. Kaali also forms a close bond with a NRI hostelite named Anwar, who is in a relationship with Anu, the daughter of Mangalam, a pranic healer. Kaali convinces Mangalam to accept her daughter's relationship with Anwar, and they end up falling in love\""
      ],
      "execution_count": 37,
      "outputs": []
    },
    {
      "cell_type": "code",
      "metadata": {
        "id": "4wrNBv_OiXRK",
        "colab_type": "code",
        "colab": {}
      },
      "source": [
        "doc = nlp (text)"
      ],
      "execution_count": 38,
      "outputs": []
    },
    {
      "cell_type": "code",
      "metadata": {
        "id": "6j62rQngi4Us",
        "colab_type": "code",
        "colab": {}
      },
      "source": [
        "for token in doc:\n",
        "  print(token)"
      ],
      "execution_count": null,
      "outputs": []
    },
    {
      "cell_type": "code",
      "metadata": {
        "id": "tOG4Voxpj-UI",
        "colab_type": "code",
        "colab": {}
      },
      "source": [
        "span = doc[1:3]\n",
        "print (span.text)"
      ],
      "execution_count": null,
      "outputs": []
    },
    {
      "cell_type": "code",
      "metadata": {
        "id": "_xqTKedfJ_zJ",
        "colab_type": "code",
        "colab": {}
      },
      "source": [
        "!python -m spacy download en_core_web_sm"
      ],
      "execution_count": null,
      "outputs": []
    },
    {
      "cell_type": "code",
      "metadata": {
        "id": "eupW3mVEL_hl",
        "colab_type": "code",
        "colab": {}
      },
      "source": [
        "import spacy\n",
        "nlp = spacy.load(\"en_core_web_sm\")\n",
        "doc = nlp(text)"
      ],
      "execution_count": null,
      "outputs": []
    },
    {
      "cell_type": "code",
      "metadata": {
        "id": "fv5r38gbHfL6",
        "colab_type": "code",
        "colab": {}
      },
      "source": [
        "for token in doc:\n",
        "  print(token.pos_,token.text)"
      ],
      "execution_count": null,
      "outputs": []
    },
    {
      "cell_type": "code",
      "metadata": {
        "id": "igsoxbOqShZ8",
        "colab_type": "code",
        "colab": {}
      },
      "source": [
        "for ent in doc.ents:\n",
        "  print(ent.text, ent.label_,sep = ',')"
      ],
      "execution_count": null,
      "outputs": []
    },
    {
      "cell_type": "markdown",
      "metadata": {
        "id": "EYWiJ29QEerH",
        "colab_type": "text"
      },
      "source": [
        "Movie Characters in the Plot"
      ]
    },
    {
      "cell_type": "code",
      "metadata": {
        "id": "rWXGVkwuD1fI",
        "colab_type": "code",
        "colab": {}
      },
      "source": [
        "for ent in doc.ents:\n",
        "  if(ent.label_ ==\"PERSON\"):\n",
        "   print (ent.text)"
      ],
      "execution_count": null,
      "outputs": []
    },
    {
      "cell_type": "markdown",
      "metadata": {
        "id": "V9llR6WfEk_b",
        "colab_type": "text"
      },
      "source": [
        "Getting Locations in the Plot"
      ]
    },
    {
      "cell_type": "code",
      "metadata": {
        "id": "CdHd7QDCEkbN",
        "colab_type": "code",
        "colab": {
          "base_uri": "https://localhost:8080/",
          "height": 51
        },
        "outputId": "fdd41973-d524-4fd4-958f-6cea7c36ba74"
      },
      "source": [
        "for ent in doc.ents:\n",
        "  if(ent.label_ ==\"GPE\"):\n",
        "   print (ent.text)"
      ],
      "execution_count": 34,
      "outputs": [
        {
          "output_type": "stream",
          "text": [
            "Ooty\n",
            "NRI\n"
          ],
          "name": "stdout"
        }
      ]
    },
    {
      "cell_type": "code",
      "metadata": {
        "id": "_JqjFVFtE1DN",
        "colab_type": "code",
        "colab": {}
      },
      "source": [
        ""
      ],
      "execution_count": null,
      "outputs": []
    },
    {
      "cell_type": "code",
      "metadata": {
        "id": "oIwfYo-VE2VO",
        "colab_type": "code",
        "colab": {}
      },
      "source": [
        ""
      ],
      "execution_count": null,
      "outputs": []
    },
    {
      "cell_type": "code",
      "metadata": {
        "id": "FrNA8kLVE2rd",
        "colab_type": "code",
        "colab": {}
      },
      "source": [
        ""
      ],
      "execution_count": null,
      "outputs": []
    },
    {
      "cell_type": "code",
      "metadata": {
        "id": "xU0faMEhE262",
        "colab_type": "code",
        "colab": {}
      },
      "source": [
        ""
      ],
      "execution_count": null,
      "outputs": []
    },
    {
      "cell_type": "code",
      "metadata": {
        "id": "C5MIzaEcE2zr",
        "colab_type": "code",
        "colab": {}
      },
      "source": [
        ""
      ],
      "execution_count": null,
      "outputs": []
    },
    {
      "cell_type": "code",
      "metadata": {
        "id": "Qo3J4gg8E2hs",
        "colab_type": "code",
        "colab": {}
      },
      "source": [
        ""
      ],
      "execution_count": null,
      "outputs": []
    },
    {
      "cell_type": "code",
      "metadata": {
        "id": "x3tIpobcE2Fj",
        "colab_type": "code",
        "colab": {}
      },
      "source": [
        ""
      ],
      "execution_count": null,
      "outputs": []
    },
    {
      "cell_type": "code",
      "metadata": {
        "id": "l0mGG4pbhg5_",
        "colab_type": "code",
        "colab": {}
      },
      "source": [
        "from spacy.matcher import Matcher"
      ],
      "execution_count": 35,
      "outputs": []
    },
    {
      "cell_type": "code",
      "metadata": {
        "id": "YkeCvDcCiC3g",
        "colab_type": "code",
        "colab": {}
      },
      "source": [
        "matcher = Matcher(nlp.vocab)"
      ],
      "execution_count": null,
      "outputs": []
    },
    {
      "cell_type": "code",
      "metadata": {
        "id": "wUdy8JYZiJTC",
        "colab_type": "code",
        "colab": {}
      },
      "source": [
        "pattern = [{'LOWER':'old'},{'POS':'NOUN'}]"
      ],
      "execution_count": null,
      "outputs": []
    },
    {
      "cell_type": "code",
      "metadata": {
        "id": "l4jsilTBiytQ",
        "colab_type": "code",
        "colab": {}
      },
      "source": [
        "matcher.add(\"Gender\",None,pattern)"
      ],
      "execution_count": null,
      "outputs": []
    },
    {
      "cell_type": "code",
      "metadata": {
        "id": "Rhyhzg5hi9yX",
        "colab_type": "code",
        "colab": {}
      },
      "source": [
        "matches = matcher(doc)"
      ],
      "execution_count": null,
      "outputs": []
    },
    {
      "cell_type": "code",
      "metadata": {
        "id": "NEL2kv5LjE0N",
        "colab_type": "code",
        "colab": {}
      },
      "source": [
        "for match_id, start, end in matches:\n",
        "  matched_span = doc[start:end]\n",
        "  print (matched_span.text)"
      ],
      "execution_count": null,
      "outputs": []
    }
  ]
}